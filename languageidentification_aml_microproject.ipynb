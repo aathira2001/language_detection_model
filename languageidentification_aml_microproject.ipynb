{
  "nbformat": 4,
  "nbformat_minor": 0,
  "metadata": {
    "colab": {
      "provenance": []
    },
    "kernelspec": {
      "name": "python3",
      "display_name": "Python 3"
    },
    "language_info": {
      "name": "python"
    }
  },
  "cells": [
    {
      "cell_type": "code",
      "source": [
        "from sklearn.feature_extraction.text import TfidfVectorizer\n",
        "from sklearn.linear_model import LogisticRegression\n",
        "from sklearn.model_selection import train_test_split\n",
        "from sklearn.metrics import accuracy_score\n",
        "import pandas as pd\n",
        "\n",
        "# Load the dataset (replace with your actual dataset path)\n",
        "data = pd.read_csv('/content/dataset.csv')\n",
        "\n",
        "# Preprocess the data\n",
        "X = data['Text']\n",
        "y = data['language']\n",
        "\n",
        "# Create TF-IDF vectors\n",
        "vectorizer = TfidfVectorizer(stop_words='english')\n",
        "X_tfidf = vectorizer.fit_transform(X)\n",
        "\n",
        "# Split data into training and testing sets\n",
        "X_train, X_test, y_train, y_test = train_test_split(X_tfidf, y, test_size=0.2, random_state=42)\n",
        "\n",
        "# Create and train the model\n",
        "model = LogisticRegression(max_iter=1000)\n",
        "model.fit(X_train, y_train)\n",
        "\n",
        "# Make predictions\n",
        "y_pred = model.predict(X_test)\n",
        "\n",
        "# Evaluate the model\n",
        "accuracy = accuracy_score(y_test, y_pred)\n",
        "print(f\"Accuracy: {accuracy}\")\n",
        "\n",
        "# Example usage: Identify the language of a new sentence\n",
        "new_sentence = \"klement gottwaldi surnukeha palsameeriti ning\"\n",
        "new_sentence_tfidf = vectorizer.transform([new_sentence])\n",
        "predicted_language = model.predict(new_sentence_tfidf)[0]\n",
        "print(f\"Predicted language: {predicted_language}\")"
      ],
      "metadata": {
        "colab": {
          "base_uri": "https://localhost:8080/"
        },
        "id": "FDhQqIgPsWGV",
        "outputId": "5b660f49-5fed-4233-cc57-5b942a9d23ac"
      },
      "execution_count": 17,
      "outputs": [
        {
          "output_type": "stream",
          "name": "stdout",
          "text": [
            "Accuracy: 0.9590909090909091\n",
            "Predicted language: Estonian\n"
          ]
        }
      ]
    }
  ]
}